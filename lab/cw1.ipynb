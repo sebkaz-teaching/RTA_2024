{
 "cells": [
  {
   "cell_type": "markdown",
   "metadata": {},
   "source": [
    "# Środowisko produkcyjne z modelem ML\n",
    "\n",
    "Naszym zadaniem jest wystawić aplikację w pythonie realizującą zadania REST API. \n",
    "Na ządanie klienta serwer udzieli odpowiedzi na podstawie predykcji wygenerowanej z jakiegoś modelu.\n",
    "\n",
    "Obraz ten zostanie skonteryzowany z wykorzystaniem pliku `Dockerfile` dzięki czemu uruchomienie serwera stanie się mozliwe nie zaleznie od platformy.\n",
    "\n",
    "Nasze zadanie zrealizujemy z wykorzystaniem biblioteki `Flask` w wersji `3.0.3`.\n",
    "\n",
    "Istnieją inne biblioteki realizujące to zadanie. \n",
    "> Sprawdź samodzielnie w domu czy potrafisz je uzyć, albo przynajmniej przeczytać kod. \n",
    "\n",
    "1. FastAPI\n",
    "2. Seldon\n",
    "3. MLFlow\n",
    "4. Node js - Express\n",
    "\n",
    "## Kod minimalnej aplikacji flask\n",
    "\n",
    "Naszą aplikację chcemy uruchomić lokalnie a potem w łatwy sposób przenieść i wykonać na dowolnym komputerze. \n",
    "Z tej przyczyny naturalnym rozwiązaniem jest zapis kodu do pliku z rozszerzeniem `.py`.\n",
    "\n",
    "W celu autozapisu kodu aplikacji do pliku `app.py` wykorzystamy magiczną komendę `%%file plik.py`."
   ]
  },
  {
   "cell_type": "code",
   "execution_count": null,
   "metadata": {},
   "outputs": [],
   "source": [
    "%%file app.py\n",
    "from flask import Flask\n",
    "\n",
    "# Create a flask\n",
    "app = Flask(__name__)\n",
    "\n",
    "# Create an API end point\n",
    "@app.route('/')\n",
    "def say_hello():\n",
    "    return \"Hello World\"\n",
    "\n",
    "if __name__ == '__main__':\n",
    "    app.run() # domyślnie ustawia localhost i port 5000"
   ]
  },
  {
   "cell_type": "markdown",
   "metadata": {},
   "source": [
    "> Uwaga! w dokumentacji Flask w kodzie podstawowej aplikacji nie występują ostatnie dwie liniki uruchamiające serwer. \n",
    "```python\n",
    "if __name__ == '__main__':\n",
    "    app.run()\n",
    "```\n",
    "\n",
    "Ponadto poleceniem uruchamiającym serwer jest `flask run` a nie `python app.py`.\n",
    "\n",
    "Wyjaśnijmy co zawiera przykładowy kod. \n",
    "\n",
    "1. `from flask import Flask` Załadowanie biblioteki\n",
    "2. `app = Flask(__name__)` utworzenie interfejsu serwera API\n",
    "3. kod podstrony z wykorzystaniem dekoratora\n",
    "```python\n",
    "@app.route('/')\n",
    "def say_hello():\n",
    "    return \"Hello World\"\n",
    "```\n",
    "\n",
    "W celu pokazania jak działa dekorator zdefiniujmy następującą funkcję:"
   ]
  },
  {
   "cell_type": "code",
   "execution_count": 1,
   "metadata": {},
   "outputs": [],
   "source": [
    "def make_pretty(func):\n",
    "    def inner():\n",
    "        print(\"decorator działa\")\n",
    "        func()\n",
    "    return inner()"
   ]
  },
  {
   "cell_type": "markdown",
   "metadata": {},
   "source": [
    "Następnie funkcja testowa"
   ]
  },
  {
   "cell_type": "code",
   "execution_count": 3,
   "metadata": {},
   "outputs": [
    {
     "name": "stdout",
     "output_type": "stream",
     "text": [
      "decorator działa\n",
      "abc\n"
     ]
    }
   ],
   "source": [
    "def test():\n",
    "    print(\"abc\")\n",
    "\n",
    "make_pretty(test)"
   ]
  },
  {
   "cell_type": "markdown",
   "metadata": {},
   "source": [
    "Ale mozna rowniez inaczej"
   ]
  },
  {
   "cell_type": "code",
   "execution_count": 4,
   "metadata": {},
   "outputs": [
    {
     "name": "stdout",
     "output_type": "stream",
     "text": [
      "decorator działa\n",
      "test2\n"
     ]
    }
   ],
   "source": [
    "@make_pretty\n",
    "def test2():\n",
    "    print(\"test2\")"
   ]
  },
  {
   "cell_type": "code",
   "execution_count": 5,
   "metadata": {},
   "outputs": [
    {
     "name": "stdout",
     "output_type": "stream",
     "text": [
      "decorator działa\n",
      "jeszcze cos\n"
     ]
    }
   ],
   "source": [
    "@make_pretty\n",
    "def test3():\n",
    "    print(\"jeszcze cos\")"
   ]
  },
  {
   "cell_type": "markdown",
   "metadata": {},
   "source": [
    "## Środowisko Python \n",
    "\n",
    "Aby kod aplikacji app.py mógł zostać uruchomiony potrzebujemy aby na naszym komputerze istniał jakiś interpreter języka Python. \n",
    "Samo posiadanie interpretatora nie jest jeszcze wystarczające dla naszej aplikacji. \n",
    "Do pełnego uruchomienia potrzebujemy wygenerować środowisko (najlepiej wirtualne) w który dostępne będą wszystkie potrzebne biblioteki (np. flask).\n",
    "\n",
    "> uwaga: wszystkie polecenia terminala dotyczyć będą wersji linux/mac os. \n",
    "\n",
    "W pierwszej kolejności sprawdź czy dostępne są polecenia pozwalające realizować kod pythonowy. \n",
    "```bash\n",
    "which python\n",
    "which python3\n",
    "which pip \n",
    "which pip3\n",
    "```\n",
    "Wszystkie te polecenia powinny wskazyać na folder z domyślnym środowiskiem Pythona.\n",
    "\n",
    "\n",
    "Wygeneruj i uruchom środowisko wirtualne lokalnie wpisując w terminalu:\n",
    "```bash\n",
    "python3 -m venv .venv\n",
    "source .venv/bin/activate\n",
    "```\n",
    "> Dobra praktyka: środowisko python to nic innego jak katalog.\n",
    "> W naszej wersji to katalog ukryty o nazwie `.venv`. \n",
    "> Jeśli skopiujesz ten katalog gdzie indziej przestanie pełnić on swoją funkcję środowiska python. \n",
    "> Dlatego jego odtworzenie nie polega na jego kopiowaniu. \n",
    "> Jeśli Twój projekt jest powiązany ze środowiskiem kontroli wersji GIT zadbaj aby katalog środowiska nie był dodawany do repozytorium. \n",
    "> Mozesz wykonać to działanie dodając odpowiedni wpis do pliki `.gitignore`\n",
    "\n",
    "Posiadając utworzone nowe środowisko sprawdź jakie biblioteki się w nim znajdują. \n",
    "```bash\n",
    "pip list \n",
    "\n",
    "Package    Version\n",
    "---------- -------\n",
    "pip        23.2.1\n",
    "pyspark    3.4.1\n",
    "setuptools 65.5.0\n",
    "```\n",
    "Mozemy ponownie sprawdzić polecenia python i pip \n",
    "```bash\n",
    "which python\n",
    "which pip \n",
    "```\n",
    "\n",
    "Domyślnie powinny pojawić się biblioteki `pip` oraz `setuptools` (pyspark pochodzi z naszego wewnętrzengo obrazu).\n",
    "\n",
    "Doinstaluj bibliotekę flask\n",
    "\n",
    "```bash\n",
    "pip install flask==3.0.3\n",
    "pip list \n",
    "Package      Version\n",
    "------------ -------\n",
    "blinker      1.7.0\n",
    "click        8.1.7\n",
    "Flask        3.0.3\n",
    "itsdangerous 2.1.2\n",
    "Jinja2       3.1.3\n",
    "MarkupSafe   2.1.5\n",
    "pip          23.2.1\n",
    "pyspark      3.4.1\n",
    "setuptools   65.5.0\n",
    "Werkzeug     3.0.2\n",
    "```\n",
    "\n",
    "Jak widać instalacja biblioteki `flask` wymusiła doinstalowanie równiez innych pakietów. \n",
    "\n",
    "Jedyną mozliwością przeniesienia środowiska python jest jego ponowna instalacja na nowej maszynie i instalacja wszystkich pakietów.\n",
    "Aby jednak nie instalować kazdego pakietu osobno mozemy wykorzystać plik konfiguracyjny `requirements.txt`  zawierający listę pakietów. \n",
    "\n",
    "> Pamiętaj - kazdy pakiet powinien zawierać nr wersji pakietu. W innym przypadku moze okazać się, ze nowe werjse pakietów spowodują brak obsługi twojego kodu. \n",
    "\n",
    "Aby utworzyć plik konfiguracyjny uzyj polecenia w terminalu:\n",
    "```bash\n",
    "pip freeze >> requirements.txt\n",
    "```\n",
    "\n",
    "Tak wygenerowany plik mozesz uzywać na dowolnej maszynie do instalacji i odtworzenia potrzebnego środowiska wykonawczego python.\n",
    "\n",
    "> Dygresja. W momencie przygotowywania materiałów Flask był w wersji 3.0.1 - dziś juz realizowany jest w wersji 3.0.3. Zmiany następują szybciej niz się wydaje. \n",
    "\n",
    "Instalacja pakietów z pliku odbywa się z wykorzystaniem polecenia:\n",
    "```bash\n",
    "pip install -r requierements.txt\n",
    "```\n"
   ]
  },
  {
   "cell_type": "markdown",
   "metadata": {},
   "source": [
    "Mamy teraz dwa pliki: `app.py`, i `requirements.txt`.\n",
    "Przenosząc je do dowolnego projektu na serwerach github jesteśmy w stanie uruchomić naszą aplikację wszędzie tam gdzie dostępny będzie interpreter python na którym mozemy utworzyć nowe wirtualne środowisko\n",
    "i zainstalować biblioteki z pliku requirements.txt. \n",
    "\n",
    "Do pełnej automatyzacji przydałaby się jeszcze mozliwość uruchomienia środowiska python na dowolnej maszynie. \n",
    "\n",
    "W tym celu utwórz plik `Dockerfile`:"
   ]
  },
  {
   "cell_type": "code",
   "execution_count": null,
   "metadata": {},
   "outputs": [],
   "source": [
    "%%file Dockerfile\n",
    "FROM python:3.11-slim-buster as builder\n",
    "\n",
    "WORKDIR /app\n",
    "\n",
    "COPY requirements.txt .\n",
    "RUN pip install -r requirements.txt\n",
    "\n",
    "# Użyj innego obrazu dla obrazu końcowego\n",
    "FROM python3.11-slim-buster\n",
    "WORKDIR /app\n",
    "# Skopiuj zależności z obrazu budującego\n",
    "COPY --from=builder /app /app\n",
    "\n",
    "COPY app.py .\n",
    "\n",
    "ENV FLASK_APP=app\n",
    "\n",
    "EXPOSE 8000\n",
    "CMD [\"flask\", \"run\", \"--host\", \"0.0.0.0\", \"--port\", \"8000\"]"
   ]
  },
  {
   "cell_type": "markdown",
   "metadata": {},
   "source": [
    "Powyzszy plik pozwala w docker desktop uruchomić obraz wykorzystujący podstawowy system operacyjny (tutaj linux)\n",
    "wraz z podstawowym środowiskiem python3.11.\n",
    "\n",
    "Ponadto plik ten kopiuje potrzebne pliki (app.py, requirements.txt) na obraz dockera. \n",
    "\n",
    "Polecenie `RUN` pozwala uruchomić dowolne polecenie bash wewnątrz obrazu dockera.\n",
    "\n",
    "Polecenie `CMD` pozwala uruchomić polecenie uruchamiające serwer w trybie tak by nie zamknąć tego polecenia.\n",
    "\n",
    "Ostatnią informacją jest ustalenie portu na 8000. \n",
    "\n",
    "```bash\n",
    "# utworzenie kontenera na podstawie pliku Dockerfile\n",
    "docker build -t modelML .\n",
    "# uruchomienie kontenera\n",
    "docker run -p 8000:8000 modelML\n",
    "```"
   ]
  },
  {
   "cell_type": "markdown",
   "metadata": {},
   "source": [
    "## Uruchomienie serwera lokalnie \n",
    "\n",
    "Uruchomienie serwera moze odbyć się na przynajmniej na dwa sposoby. \n",
    "\n",
    "### Uruchomienie serwera przez terminal\n",
    "\n",
    "```bash\n",
    "python app.py\n",
    "```\n",
    "lub (jeśli nie ma kodu `app.run()` uruchamiającego serwer.)\n",
    "```bash\n",
    "flask run \n",
    "```\n",
    "Powinna pojawić się informacja podobna do ponizszej:\n",
    "```bash\n",
    " * Serving Flask app 'app'\n",
    " * Debug mode: off\n",
    "WARNING: This is a development server. Do not use it in a production deployment. Use a production WSGI server instead.\n",
    " * Running on http://127.0.0.1:5000\n",
    "Press CTRL+C to quit\n",
    "```\n",
    "\n",
    "### Uruchomienie serwera przez notatnik \n",
    "\n",
    "Bezpośrenie uruchomienia kodu w notatniku spowoduje uruchomienie serwera i zatrzymanie jakiejkolwiek mozliwości realizacji kodu. \n",
    "Aby tego uniknąć mozesz wykorzystać bibliotekę `subprocess`."
   ]
  },
  {
   "cell_type": "code",
   "execution_count": null,
   "metadata": {},
   "outputs": [],
   "source": [
    "import subporcess\n",
    "\n",
    "p = subprocess.Popen([\"python\", \"app.py\"])"
   ]
  },
  {
   "cell_type": "markdown",
   "metadata": {},
   "source": [
    "Jeśli potrzebujemy zamknąć subprocess wykonaj:"
   ]
  },
  {
   "cell_type": "code",
   "execution_count": null,
   "metadata": {},
   "outputs": [],
   "source": [
    "p.kill()"
   ]
  },
  {
   "cell_type": "markdown",
   "metadata": {},
   "source": [
    "Posiadając uruchomiony serwer mozesz odpytac serwer wykorzystując: \n",
    "```bash\n",
    "curl localhost:5000\n",
    "```\n",
    "albo kod w notatniku:"
   ]
  },
  {
   "cell_type": "code",
   "execution_count": null,
   "metadata": {},
   "outputs": [],
   "source": [
    "import requests\n",
    "\n",
    "response = requests.get(\"http://127.0.0.1:5000/\")\n",
    "\n",
    "print(response.content) # Hello World\n",
    "print(response.status_code) # 200"
   ]
  }
 ],
 "metadata": {
  "kernelspec": {
   "display_name": "venv",
   "language": "python",
   "name": "python3"
  },
  "language_info": {
   "codemirror_mode": {
    "name": "ipython",
    "version": 3
   },
   "file_extension": ".py",
   "mimetype": "text/x-python",
   "name": "python",
   "nbconvert_exporter": "python",
   "pygments_lexer": "ipython3",
   "version": "3.11.8"
  }
 },
 "nbformat": 4,
 "nbformat_minor": 2
}
