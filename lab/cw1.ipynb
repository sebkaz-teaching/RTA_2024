{
 "cells": [
  {
   "cell_type": "markdown",
   "metadata": {},
   "source": [
    "## Środowisko produkcyjne z modelem ML\n",
    "\n",
    "Naszym zadaniem jest wystawić aplikację w pythonie realizującą zadania REST API. \n",
    "Na ządanie klienta serwer udzieli odpowiedzi na podstawie predykcji wygenerowanej z jakiegoś modelu. \n",
    "Ponadto obraz ten zostanie skonterenryzowany z wykorzystaniem pliku `Dockerfile` dzięki czemu uruchomienie serwera stanie się mozliwe nie zaleznie od platformy.\n",
    "\n",
    "Nasze zadanie zrealizujemy z wykorzystaniem biblioteki `Flask` w wersji `3.0.3`.\n",
    "\n",
    "Istnieją inne biblioteki realizujące to zadanie. \n",
    "> Sprawdź samodzielnie w domu czy potrafisz je uzyć, albo przynajmniej przeczytać kod. \n",
    "\n",
    "1. FastAPI\n",
    "2. Seldon\n",
    "3. MLFlow\n",
    "4. Node js - Express\n",
    "\n",
    "### Kod minimalnej aplikacji flask\n",
    "\n",
    "Naszą aplikację chcemy uruchomić lokalnie a potem w łatwy sposób przenieść i wykonać na dowolnym komputerze. \n",
    "Z tej przyczyny naturalnym rozwiązaniem jest zapis kodu do pliku z rozszerzeniem `.py`.\n",
    "\n",
    "W celu autozapisu kodu aplikacji do pliku `app.py` wykorzystamy magiczną komendę `%%file plik.py`.\n",
    "\n"
   ]
  },
  {
   "cell_type": "code",
   "execution_count": null,
   "metadata": {},
   "outputs": [],
   "source": [
    "%%file app.py\n",
    "from flask import Flask\n",
    "\n",
    "# Create a flask\n",
    "app = Flask(__name__)\n",
    "\n",
    "# Create an API end point\n",
    "@app.route('/')\n",
    "def say_hello():\n",
    "    return \"Hello World\"\n",
    "\n",
    "if __name__ == '__main__':\n",
    "    app.run() # domyślnie ustawia localhost i port 5000"
   ]
  },
  {
   "cell_type": "markdown",
   "metadata": {},
   "source": [
    "> Uwaga! w dokumentacji Flask w przykładowym kodzie nie występują ostatnie dwie liniki uruchamiające serwer. Ponadto poleceniem uruchamiającym serwer jest `flask run` a nie `python app.py`.\n",
    "\n",
    "Wyjaśnijmy co zawiera przykładowy kod. \n",
    "\n",
    "1. `from flask import Flask` Załadowanie biblioteki\n",
    "2. `app = Flask(__name__)` utworzenie interfejsu serwera API\n",
    "3. kod podstrony z wykorzystaniem dekoratora\n",
    "```python\n",
    "@app.route('/')\n",
    "def say_hello():\n",
    "    return \"Hello World\"\n",
    "```\n",
    "\n",
    "W celu pokazania jak działa dekorator zdefiniujmy następującą funkcję:"
   ]
  },
  {
   "cell_type": "code",
   "execution_count": 1,
   "metadata": {},
   "outputs": [],
   "source": [
    "def make_pretty(func):\n",
    "    def inner():\n",
    "        print(\"decorator działa\")\n",
    "        func()\n",
    "    return inner()"
   ]
  },
  {
   "cell_type": "markdown",
   "metadata": {},
   "source": [
    "Następnie funkcja testowa"
   ]
  },
  {
   "cell_type": "code",
   "execution_count": 3,
   "metadata": {},
   "outputs": [
    {
     "name": "stdout",
     "output_type": "stream",
     "text": [
      "decorator działa\n",
      "abc\n"
     ]
    }
   ],
   "source": [
    "def test():\n",
    "    print(\"abc\")\n",
    "\n",
    "make_pretty(test)"
   ]
  },
  {
   "cell_type": "markdown",
   "metadata": {},
   "source": [
    "Ale mozna rowniez inaczej"
   ]
  },
  {
   "cell_type": "code",
   "execution_count": 4,
   "metadata": {},
   "outputs": [
    {
     "name": "stdout",
     "output_type": "stream",
     "text": [
      "decorator działa\n",
      "test2\n"
     ]
    }
   ],
   "source": [
    "@make_pretty\n",
    "def test2():\n",
    "    print(\"test2\")"
   ]
  },
  {
   "cell_type": "code",
   "execution_count": 5,
   "metadata": {},
   "outputs": [
    {
     "name": "stdout",
     "output_type": "stream",
     "text": [
      "decorator działa\n",
      "jeszcze cos\n"
     ]
    }
   ],
   "source": [
    "@make_pretty\n",
    "def test3():\n",
    "    print(\"jeszcze cos\")"
   ]
  },
  {
   "cell_type": "markdown",
   "metadata": {},
   "source": [
    "## Środowisko Python \n",
    "\n",
    "Przed przystąpieniem do realizacji projektu"
   ]
  }
 ],
 "metadata": {
  "kernelspec": {
   "display_name": "venv",
   "language": "python",
   "name": "python3"
  },
  "language_info": {
   "codemirror_mode": {
    "name": "ipython",
    "version": 3
   },
   "file_extension": ".py",
   "mimetype": "text/x-python",
   "name": "python",
   "nbconvert_exporter": "python",
   "pygments_lexer": "ipython3",
   "version": "3.11.8"
  }
 },
 "nbformat": 4,
 "nbformat_minor": 2
}
