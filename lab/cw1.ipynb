{
 "cells": [
  {
   "cell_type": "markdown",
   "metadata": {},
   "source": [
    "## Środowisko produkcyjne z modelem ML\n",
    "\n",
    "Naszym zadaniem jest wystawić aplikację w pythonie realizującą zadania REST API. \n",
    "Na ządanie klienta serwer udzieli odpowiedzi na podstawie predykcji wygenerowanej z jakiegoś modelu. \n",
    "Ponadto obraz ten zostanie skonterenryzowany z wykorzystaniem pliku `Dockerfile` dzięki czemu uruchomienie serwera stanie się mozliwe nie zaleznie od platformy.\n",
    "\n",
    "Nasze zadanie zrealizujemy z wykorzystaniem biblioteki `Flask` w wersji `3.0.3`.\n",
    "\n",
    "Istnieją inne biblioteki realizujące to zadanie. \n",
    "> Sprawdź samodzielnie w domu czy potrafisz je uzyć, albo przynajmniej przeczytać kod. \n",
    "\n",
    "1. FastAPI\n",
    "2. Seldon\n",
    "3. MLFlow\n",
    "4. Node js - Express\n",
    "\n",
    "### Kod minimalnej aplikacji flask\n",
    "\n",
    "Naszą aplikację chcemy uruchomić lokalnie a potem w łatwy sposób przenieść i wykonać na dowolnym komputerze. \n",
    "Z tej przyczyny naturalnym rozwiązaniem jest zapis kodu do pliku z rozszerzeniem `.py`.\n",
    "\n",
    "W celu autozapisu kodu aplikacji do pliku `app.py` wykorzystamy magiczną komendę `%%file plik.py`.\n",
    "\n"
   ]
  },
  {
   "cell_type": "code",
   "execution_count": null,
   "metadata": {},
   "outputs": [],
   "source": [
    "%%file app.py\n",
    "from flask import Flask\n",
    "\n",
    "# Create a flask\n",
    "app = Flask(__name__)\n",
    "\n",
    "# Create an API end point\n",
    "@app.route('/hello', methods=['GET'])\n",
    "def say_hello():\n",
    "    return \"Hello World\"\n",
    "\n",
    "if __name__ == '__main__':\n",
    "    app.run() # domyślnie ustawia localhost i port 5000"
   ]
  },
  {
   "cell_type": "markdown",
   "metadata": {},
   "source": [
    "> Uwaga! w dokumentacji Flask w przykładowym kodzie nie występują ostatnie dwie liniki uruchamiające serwer. "
   ]
  },
  {
   "cell_type": "markdown",
   "metadata": {},
   "source": [
    "## Środowisko Python \n",
    "\n",
    "Przed przystąpieniem do realizacji projektu"
   ]
  }
 ],
 "metadata": {
  "kernelspec": {
   "display_name": "venv",
   "language": "python",
   "name": "python3"
  },
  "language_info": {
   "name": "python",
   "version": "3.11.8"
  }
 },
 "nbformat": 4,
 "nbformat_minor": 2
}
